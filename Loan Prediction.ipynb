{
 "cells": [
  {
   "cell_type": "markdown",
   "metadata": {},
   "source": [
    "# Univariate Analysis"
   ]
  },
  {
   "cell_type": "code",
   "execution_count": 1,
   "metadata": {},
   "outputs": [
    {
     "data": {
      "text/html": [
       "<div>\n",
       "<style scoped>\n",
       "    .dataframe tbody tr th:only-of-type {\n",
       "        vertical-align: middle;\n",
       "    }\n",
       "\n",
       "    .dataframe tbody tr th {\n",
       "        vertical-align: top;\n",
       "    }\n",
       "\n",
       "    .dataframe thead th {\n",
       "        text-align: right;\n",
       "    }\n",
       "</style>\n",
       "<table border=\"1\" class=\"dataframe\">\n",
       "  <thead>\n",
       "    <tr style=\"text-align: right;\">\n",
       "      <th></th>\n",
       "      <th>Loan_ID</th>\n",
       "      <th>Gender</th>\n",
       "      <th>Married</th>\n",
       "      <th>Dependents</th>\n",
       "      <th>Education</th>\n",
       "      <th>Self_Employed</th>\n",
       "      <th>ApplicantIncome</th>\n",
       "      <th>CoapplicantIncome</th>\n",
       "      <th>LoanAmount</th>\n",
       "      <th>Loan_Amount_Term</th>\n",
       "      <th>Credit_History</th>\n",
       "      <th>Property_Area</th>\n",
       "      <th>Loan_Status</th>\n",
       "    </tr>\n",
       "  </thead>\n",
       "  <tbody>\n",
       "    <tr>\n",
       "      <th>0</th>\n",
       "      <td>LP001002</td>\n",
       "      <td>Male</td>\n",
       "      <td>No</td>\n",
       "      <td>0</td>\n",
       "      <td>Graduate</td>\n",
       "      <td>No</td>\n",
       "      <td>5849</td>\n",
       "      <td>0.0</td>\n",
       "      <td>NaN</td>\n",
       "      <td>360.0</td>\n",
       "      <td>1.0</td>\n",
       "      <td>Urban</td>\n",
       "      <td>Y</td>\n",
       "    </tr>\n",
       "    <tr>\n",
       "      <th>1</th>\n",
       "      <td>LP001003</td>\n",
       "      <td>Male</td>\n",
       "      <td>Yes</td>\n",
       "      <td>1</td>\n",
       "      <td>Graduate</td>\n",
       "      <td>No</td>\n",
       "      <td>4583</td>\n",
       "      <td>1508.0</td>\n",
       "      <td>128.0</td>\n",
       "      <td>360.0</td>\n",
       "      <td>1.0</td>\n",
       "      <td>Rural</td>\n",
       "      <td>N</td>\n",
       "    </tr>\n",
       "    <tr>\n",
       "      <th>2</th>\n",
       "      <td>LP001005</td>\n",
       "      <td>Male</td>\n",
       "      <td>Yes</td>\n",
       "      <td>0</td>\n",
       "      <td>Graduate</td>\n",
       "      <td>Yes</td>\n",
       "      <td>3000</td>\n",
       "      <td>0.0</td>\n",
       "      <td>66.0</td>\n",
       "      <td>360.0</td>\n",
       "      <td>1.0</td>\n",
       "      <td>Urban</td>\n",
       "      <td>Y</td>\n",
       "    </tr>\n",
       "    <tr>\n",
       "      <th>3</th>\n",
       "      <td>LP001006</td>\n",
       "      <td>Male</td>\n",
       "      <td>Yes</td>\n",
       "      <td>0</td>\n",
       "      <td>Not Graduate</td>\n",
       "      <td>No</td>\n",
       "      <td>2583</td>\n",
       "      <td>2358.0</td>\n",
       "      <td>120.0</td>\n",
       "      <td>360.0</td>\n",
       "      <td>1.0</td>\n",
       "      <td>Urban</td>\n",
       "      <td>Y</td>\n",
       "    </tr>\n",
       "    <tr>\n",
       "      <th>4</th>\n",
       "      <td>LP001008</td>\n",
       "      <td>Male</td>\n",
       "      <td>No</td>\n",
       "      <td>0</td>\n",
       "      <td>Graduate</td>\n",
       "      <td>No</td>\n",
       "      <td>6000</td>\n",
       "      <td>0.0</td>\n",
       "      <td>141.0</td>\n",
       "      <td>360.0</td>\n",
       "      <td>1.0</td>\n",
       "      <td>Urban</td>\n",
       "      <td>Y</td>\n",
       "    </tr>\n",
       "  </tbody>\n",
       "</table>\n",
       "</div>"
      ],
      "text/plain": [
       "    Loan_ID Gender Married Dependents     Education Self_Employed  \\\n",
       "0  LP001002   Male      No          0      Graduate            No   \n",
       "1  LP001003   Male     Yes          1      Graduate            No   \n",
       "2  LP001005   Male     Yes          0      Graduate           Yes   \n",
       "3  LP001006   Male     Yes          0  Not Graduate            No   \n",
       "4  LP001008   Male      No          0      Graduate            No   \n",
       "\n",
       "   ApplicantIncome  CoapplicantIncome  LoanAmount  Loan_Amount_Term  \\\n",
       "0             5849                0.0         NaN             360.0   \n",
       "1             4583             1508.0       128.0             360.0   \n",
       "2             3000                0.0        66.0             360.0   \n",
       "3             2583             2358.0       120.0             360.0   \n",
       "4             6000                0.0       141.0             360.0   \n",
       "\n",
       "   Credit_History Property_Area Loan_Status  \n",
       "0             1.0         Urban           Y  \n",
       "1             1.0         Rural           N  \n",
       "2             1.0         Urban           Y  \n",
       "3             1.0         Urban           Y  \n",
       "4             1.0         Urban           Y  "
      ]
     },
     "execution_count": 1,
     "metadata": {},
     "output_type": "execute_result"
    }
   ],
   "source": [
    "import pandas as pd\n",
    "import seaborn as sns\n",
    "import matplotlib.pyplot as plt\n",
    "df=pd.read_csv('/Users/masti/Desktop/data_python.csv')\n",
    "df.head()"
   ]
  },
  {
   "cell_type": "code",
   "execution_count": 72,
   "metadata": {},
   "outputs": [
    {
     "data": {
      "text/plain": [
       "<matplotlib.axes._subplots.AxesSubplot at 0x1b4ecc32348>"
      ]
     },
     "execution_count": 72,
     "metadata": {},
     "output_type": "execute_result"
    },
    {
     "data": {
      "image/png": "[encoded data removed]",
      "text/plain": [
       "<Figure size 432x288 with 2 Axes>"
      ]
     },
     "metadata": {
      "needs_background": "light"
     },
     "output_type": "display_data"
    }
   ],
   "source": [
    "fig, axs = plt.subplots(1,2)\n",
    "df['Loan_Status'].value_counts(normalize=True).plot.bar(title='Loan Status',ax=axs[0])\n",
    "df['Credit_History'].value_counts(normalize=True).plot.bar(title='Credit_History',ax=axs[1])"
   ]
  },
  {
   "cell_type": "code",
   "execution_count": 73,
   "metadata": {},
   "outputs": [
    {
     "data": {
      "text/plain": [
       "<matplotlib.axes._subplots.AxesSubplot at 0x1b4eccdeb48>"
      ]
     },
     "execution_count": 73,
     "metadata": {},
     "output_type": "execute_result"
    },
    {
     "data": {
      "image/png": "[encoded data removed]",
      "text/plain": [
       "<Figure size 432x288 with 2 Axes>"
      ]
     },
     "metadata": {
      "needs_background": "light"
     },
     "output_type": "display_data"
    }
   ],
   "source": [
    "fig, axs = plt.subplots(1,2)\n",
    "df['Gender'].value_counts(normalize=True).plot.bar(title='Gender',ax=axs[0])\n",
    "df['Married'].value_counts(normalize=True).plot.bar(title='Married',ax=axs[1])"
   ]
  },
  {
   "cell_type": "code",
   "execution_count": 74,
   "metadata": {},
   "outputs": [
    {
     "data": {
      "text/plain": [
       "<matplotlib.axes._subplots.AxesSubplot at 0x1b4ecd9b608>"
      ]
     },
     "execution_count": 74,
     "metadata": {},
     "output_type": "execute_result"
    },
    {
     "data": {
      "image/png": "[encoded data removed]",
      "text/plain": [
       "<Figure size 432x288 with 2 Axes>"
      ]
     },
     "metadata": {
      "needs_background": "light"
     },
     "output_type": "display_data"
    }
   ],
   "source": [
    "fig, axs = plt.subplots(1,2)\n",
    "df['Education'].value_counts(normalize=True).plot.bar(title='Education',ax=axs[0])\n",
    "df['Self_Employed'].value_counts(normalize=True).plot.bar(title='Self Employed',ax=axs[1])"
   ]
  },
  {
   "cell_type": "code",
   "execution_count": 75,
   "metadata": {},
   "outputs": [
    {
     "data": {
      "text/plain": [
       "<matplotlib.axes._subplots.AxesSubplot at 0x1b4ece50908>"
      ]
     },
     "execution_count": 75,
     "metadata": {},
     "output_type": "execute_result"
    },
    {
     "data": {
      "image/png": "[encoded data removed]",
      "text/plain": [
       "<Figure size 432x288 with 2 Axes>"
      ]
     },
     "metadata": {
      "needs_background": "light"
     },
     "output_type": "display_data"
    }
   ],
   "source": [
    "fig, axs = plt.subplots(1,2)\n",
    "df['Property_Area'].value_counts(normalize=True).plot.bar(title='Property Area',ax=axs[0])\n",
    "df['Dependents'].value_counts(normalize=True).plot.bar(title='Dependents',ax=axs[1])"
   ]
  },
  {
   "cell_type": "code",
   "execution_count": 76,
   "metadata": {},
   "outputs": [
    {
     "data": {
      "text/plain": [
       "<matplotlib.axes._subplots.AxesSubplot at 0x1b4eced0f48>"
      ]
     },
     "execution_count": 76,
     "metadata": {},
     "output_type": "execute_result"
    },
    {
     "data": {
      "image/png": "[encoded data removed]",
      "text/plain": [
       "<Figure size 432x288 with 1 Axes>"
      ]
     },
     "metadata": {
      "needs_background": "light"
     },
     "output_type": "display_data"
    }
   ],
   "source": [
    "sns.distplot(df['ApplicantIncome'])"
   ]
  },
  {
   "cell_type": "code",
   "execution_count": 77,
   "metadata": {},
   "outputs": [
    {
     "data": {
      "text/plain": [
       "Text(0.5, 1.0, 'Applicant Income')"
      ]
     },
     "execution_count": 77,
     "metadata": {},
     "output_type": "execute_result"
    },
    {
     "data": {
      "image/png": "[encoded data removed]",
      "text/plain": [
       "<Figure size 432x288 with 1 Axes>"
      ]
     },
     "metadata": {
      "needs_background": "light"
     },
     "output_type": "display_data"
    }
   ],
   "source": [
    "plt.boxplot(df['ApplicantIncome'])\n",
    "plt.title('Applicant Income')"
   ]
  },
  {
   "cell_type": "code",
   "execution_count": 78,
   "metadata": {},
   "outputs": [
    {
     "data": {
      "text/plain": [
       "<matplotlib.axes._subplots.AxesSubplot at 0x1b4ecee7e48>"
      ]
     },
     "execution_count": 78,
     "metadata": {},
     "output_type": "execute_result"
    },
    {
     "data": {
      "image/png": "[encoded data removed]",
      "text/plain": [
       "<Figure size 432x288 with 1 Axes>"
      ]
     },
     "metadata": {
      "needs_background": "light"
     },
     "output_type": "display_data"
    }
   ],
   "source": [
    "sns.distplot(df['CoapplicantIncome'])"
   ]
  },
  {
   "cell_type": "code",
   "execution_count": 79,
   "metadata": {},
   "outputs": [
    {
     "data": {
      "text/plain": [
       "Text(0.5, 1.0, 'Co-applicant Income')"
      ]
     },
     "execution_count": 79,
     "metadata": {},
     "output_type": "execute_result"
    },
    {
     "data": {
      "image/png": "[encoded data removed]",
      "text/plain": [
       "<Figure size 432x288 with 1 Axes>"
      ]
     },
     "metadata": {
      "needs_background": "light"
     },
     "output_type": "display_data"
    }
   ],
   "source": [
    "plt.boxplot(df['CoapplicantIncome'])\n",
    "plt.title('Co-applicant Income')"
   ]
  },
  {
   "cell_type": "code",
   "execution_count": 2,
   "metadata": {},
   "outputs": [
    {
     "data": {
      "text/plain": [
       "<matplotlib.axes._subplots.AxesSubplot at 0x1369adbc188>"
      ]
     },
     "execution_count": 2,
     "metadata": {},
     "output_type": "execute_result"
    },
    {
     "data": {
      "image/png": "[encoded data removed]",
      "text/plain": [
       "<Figure size 432x288 with 1 Axes>"
      ]
     },
     "metadata": {
      "needs_background": "light"
     },
     "output_type": "display_data"
    }
   ],
   "source": [
    "sns.distplot(df['LoanAmount'])"
   ]
  },
  {
   "cell_type": "code",
   "execution_count": null,
   "metadata": {},
   "outputs": [],
   "source": [
    "sns.distplot(df['Loan_Amount_Term'])"
   ]
  },
  {
   "cell_type": "code",
   "execution_count": null,
   "metadata": {},
   "outputs": [],
   "source": [
    "plt.boxplot(df['LoanAmount'])\n",
    "plt.title('Loan Amount')"
   ]
  },
  {
   "cell_type": "code",
   "execution_count": null,
   "metadata": {},
   "outputs": [],
   "source": [
    "plt.boxplot(df['Loan_Amount_Term'])\n",
    "plt.title('Loan Amount Term')"
   ]
  },
  {
   "cell_type": "markdown",
   "metadata": {},
   "source": [
    "# Bivariate Analysis"
   ]
  },
  {
   "cell_type": "code",
   "execution_count": 82,
   "metadata": {},
   "outputs": [
    {
     "data": {
      "text/plain": [
       "<matplotlib.axes._subplots.AxesSubplot at 0x1b4ed209188>"
      ]
     },
     "execution_count": 82,
     "metadata": {},
     "output_type": "execute_result"
    },
    {
     "data": {
      "image/png": "[encoded data removed]",
      "text/plain": [
       "<Figure size 432x288 with 1 Axes>"
      ]
     },
     "metadata": {
      "needs_background": "light"
     },
     "output_type": "display_data"
    }
   ],
   "source": [
    "Gender=df.groupby(\"Gender\").Loan_Status.value_counts(normalize=True)\n",
    "x=Gender.index.tolist()\n",
    "X=[]\n",
    "X1=[]\n",
    "for i in range(len(x)):\n",
    "    X.append(x[i][0])\n",
    "    X1.append(x[i][1])\n",
    "y=Gender.values.tolist()\n",
    "sns.barplot(x=X,y=y,hue=X1,data=df)"
   ]
  },
  {
   "cell_type": "code",
   "execution_count": 83,
   "metadata": {},
   "outputs": [
    {
     "data": {
      "text/plain": [
       "<matplotlib.axes._subplots.AxesSubplot at 0x1b4ecb97a88>"
      ]
     },
     "execution_count": 83,
     "metadata": {},
     "output_type": "execute_result"
    },
    {
     "data": {
      "image/png": "[encoded data removed]",
      "text/plain": [
       "<Figure size 432x288 with 1 Axes>"
      ]
     },
     "metadata": {
      "needs_background": "light"
     },
     "output_type": "display_data"
    }
   ],
   "source": [
    "Married=df.groupby(\"Married\").Loan_Status.value_counts(normalize=True)\n",
    "x=Married.index.tolist()\n",
    "X=[]\n",
    "X1=[]\n",
    "for i in range(len(x)):\n",
    "    X.append(x[i][0])\n",
    "    X1.append(x[i][1])\n",
    "y=Married.values.tolist()\n",
    "sns.barplot(x=X,y=y,hue=X1,data=df)"
   ]
  },
  {
   "cell_type": "code",
   "execution_count": 84,
   "metadata": {},
   "outputs": [
    {
     "data": {
      "text/plain": [
       "<matplotlib.axes._subplots.AxesSubplot at 0x1b4ed299988>"
      ]
     },
     "execution_count": 84,
     "metadata": {},
     "output_type": "execute_result"
    },
    {
     "data": {
      "image/png": "[encoded data removed]",
      "text/plain": [
       "<Figure size 432x288 with 1 Axes>"
      ]
     },
     "metadata": {
      "needs_background": "light"
     },
     "output_type": "display_data"
    }
   ],
   "source": [
    "Credit=df.groupby(\"Credit_History\").Loan_Status.value_counts(normalize=True)\n",
    "x=Credit.index.tolist()\n",
    "X=[]\n",
    "X1=[]\n",
    "for i in range(len(x)):\n",
    "    X.append(x[i][0])\n",
    "    X1.append(x[i][1])\n",
    "y=Credit.values.tolist()\n",
    "sns.barplot(x=X,y=y,hue=X1,data=df)"
   ]
  },
  {
   "cell_type": "code",
   "execution_count": 85,
   "metadata": {},
   "outputs": [
    {
     "data": {
      "text/plain": [
       "<matplotlib.axes._subplots.AxesSubplot at 0x1b4ed3e4f88>"
      ]
     },
     "execution_count": 85,
     "metadata": {},
     "output_type": "execute_result"
    },
    {
     "data": {
      "image/png": "[encoded data removed]",
      "text/plain": [
       "<Figure size 432x288 with 1 Axes>"
      ]
     },
     "metadata": {
      "needs_background": "light"
     },
     "output_type": "display_data"
    }
   ],
   "source": [
    "Education=df.groupby(\"Education\").Loan_Status.value_counts(normalize=True)\n",
    "x=Education.index.tolist()\n",
    "X=[]\n",
    "X1=[]\n",
    "for i in range(len(x)):\n",
    "    X.append(x[i][0])\n",
    "    X1.append(x[i][1])\n",
    "y=Education.values.tolist()\n",
    "sns.barplot(x=X,y=y,hue=X1,data=df)"
   ]
  },
  {
   "cell_type": "code",
   "execution_count": 86,
   "metadata": {},
   "outputs": [
    {
     "data": {
      "text/plain": [
       "<matplotlib.axes._subplots.AxesSubplot at 0x1b4ed3e4388>"
      ]
     },
     "execution_count": 86,
     "metadata": {},
     "output_type": "execute_result"
    },
    {
     "data": {
      "image/png": "[encoded data removed]",
      "text/plain": [
       "<Figure size 432x288 with 1 Axes>"
      ]
     },
     "metadata": {
      "needs_background": "light"
     },
     "output_type": "display_data"
    }
   ],
   "source": [
    "Selfemp=df.groupby(\"Self_Employed\").Loan_Status.value_counts(normalize=True)\n",
    "x=Selfemp.index.tolist()\n",
    "X=[]\n",
    "X1=[]\n",
    "for i in range(len(x)):\n",
    "    X.append(x[i][0])\n",
    "    X1.append(x[i][1])\n",
    "y=Selfemp.values.tolist()\n",
    "sns.barplot(x=X,y=y,hue=X1,data=df)"
   ]
  },
  {
   "cell_type": "code",
   "execution_count": 87,
   "metadata": {},
   "outputs": [
    {
     "data": {
      "text/plain": [
       "<matplotlib.axes._subplots.AxesSubplot at 0x1b4ed491f88>"
      ]
     },
     "execution_count": 87,
     "metadata": {},
     "output_type": "execute_result"
    },
    {
     "data": {
      "image/png": "[encoded data removed]",
      "text/plain": [
       "<Figure size 432x288 with 1 Axes>"
      ]
     },
     "metadata": {
      "needs_background": "light"
     },
     "output_type": "display_data"
    }
   ],
   "source": [
    "Prop=df.groupby(\"Property_Area\").Loan_Status.value_counts(normalize=True)\n",
    "x=Prop.index.tolist()\n",
    "X=[]\n",
    "X1=[]\n",
    "for i in range(len(x)):\n",
    "    X.append(x[i][0])\n",
    "    X1.append(x[i][1])\n",
    "y=Prop.values.tolist()\n",
    "sns.barplot(x=X,y=y,hue=X1,data=df)"
   ]
  },
  {
   "cell_type": "code",
   "execution_count": 88,
   "metadata": {},
   "outputs": [
    {
     "data": {
      "text/plain": [
       "<matplotlib.axes._subplots.AxesSubplot at 0x1b4ed5115c8>"
      ]
     },
     "execution_count": 88,
     "metadata": {},
     "output_type": "execute_result"
    },
    {
     "data": {
      "image/png": "[encoded data removed]",
      "text/plain": [
       "<Figure size 432x288 with 1 Axes>"
      ]
     },
     "metadata": {
      "needs_background": "light"
     },
     "output_type": "display_data"
    }
   ],
   "source": [
    "Dep=df.groupby(\"Dependents\").Loan_Status.value_counts(normalize=True)\n",
    "x=Dep.index.tolist()\n",
    "X=[]\n",
    "X1=[]\n",
    "for i in range(len(x)):\n",
    "    X.append(x[i][0])\n",
    "    X1.append(x[i][1])\n",
    "y=Dep.values.tolist()\n",
    "sns.barplot(x=X,y=y,hue=X1,data=df)"
   ]
  },
  {
   "cell_type": "code",
   "execution_count": 89,
   "metadata": {},
   "outputs": [
    {
     "data": {
      "text/plain": [
       "<matplotlib.axes._subplots.AxesSubplot at 0x1b4e72aa788>"
      ]
     },
     "execution_count": 89,
     "metadata": {},
     "output_type": "execute_result"
    },
    {
     "data": {
      "image/png": "[encoded data removed]",
      "text/plain": [
       "<Figure size 432x288 with 1 Axes>"
      ]
     },
     "metadata": {
      "needs_background": "light"
     },
     "output_type": "display_data"
    }
   ],
   "source": [
    "bins=[0,2500,4000,6000,81000]\n",
    "df['ApplicantIncome']=pd.cut(df['ApplicantIncome'],bins,labels=['Low','Average','High','Very High'])\n",
    "df['ApplicantIncome']\n",
    "data2=df.groupby(\"ApplicantIncome\").Loan_Status.value_counts(normalize=True)\n",
    "x=data2.index.tolist()\n",
    "y=data2.values.tolist()\n",
    "X=[]\n",
    "X1=[]\n",
    "for i in range(len(x)):\n",
    "    X.append(x[i][0])\n",
    "    X1.append(x[i][1])\n",
    "sns.barplot(x=X,y=y,hue=X1,data=df)"
   ]
  },
  {
   "cell_type": "code",
   "execution_count": 90,
   "metadata": {},
   "outputs": [
    {
     "data": {
      "text/plain": [
       "<matplotlib.axes._subplots.AxesSubplot at 0x1b4ed683d48>"
      ]
     },
     "execution_count": 90,
     "metadata": {},
     "output_type": "execute_result"
    },
    {
     "data": {
      "image/png": "[encoded data removed]",
      "text/plain": [
       "<Figure size 432x288 with 1 Axes>"
      ]
     },
     "metadata": {
      "needs_background": "light"
     },
     "output_type": "display_data"
    }
   ],
   "source": [
    "bins=[0,1000,3000,42000]\n",
    "df['CoapplicantIncome']=pd.cut(df['CoapplicantIncome'],bins,labels=['Low','Average','High'])\n",
    "df['CoapplicantIncome']\n",
    "data2=df.groupby(\"CoapplicantIncome\").Loan_Status.value_counts(normalize=True)\n",
    "x=data2.index.tolist()\n",
    "y=data2.values.tolist()\n",
    "X=[]\n",
    "X1=[]\n",
    "for i in range(len(x)):\n",
    "    X.append(x[i][0])\n",
    "    X1.append(x[i][1])\n",
    "sns.barplot(x=X,y=y,hue=X1,data=df)"
   ]
  },
  {
   "cell_type": "code",
   "execution_count": 91,
   "metadata": {},
   "outputs": [
    {
     "data": {
      "text/plain": [
       "<matplotlib.axes._subplots.AxesSubplot at 0x1b4ed709f88>"
      ]
     },
     "execution_count": 91,
     "metadata": {},
     "output_type": "execute_result"
    },
    {
     "data": {
      "image/png": "[encoded data removed]",
      "text/plain": [
       "<Figure size 432x288 with 1 Axes>"
      ]
     },
     "metadata": {
      "needs_background": "light"
     },
     "output_type": "display_data"
    }
   ],
   "source": [
    "bins=[0,100,200,700]\n",
    "df['LoanAmount']=pd.cut(df['LoanAmount'],bins,labels=['Low','Average','High'])\n",
    "df['LoanAmount']\n",
    "data2=df.groupby(\"LoanAmount\").Loan_Status.value_counts(normalize=True)\n",
    "x=data2.index.tolist()\n",
    "y=data2.values.tolist()\n",
    "X=[]\n",
    "X1=[]\n",
    "for i in range(len(x)):\n",
    "    X.append(x[i][0])\n",
    "    X1.append(x[i][1])\n",
    "sns.barplot(x=X,y=y,hue=X1,data=df)"
   ]
  },
  {
   "cell_type": "code",
   "execution_count": 92,
   "metadata": {},
   "outputs": [
    {
     "data": {
      "text/plain": [
       "<matplotlib.axes._subplots.AxesSubplot at 0x1b4ee774f08>"
      ]
     },
     "execution_count": 92,
     "metadata": {},
     "output_type": "execute_result"
    },
    {
     "data": {
      "image/png": "[encoded data removed]",
      "text/plain": [
       "<Figure size 432x288 with 1 Axes>"
      ]
     },
     "metadata": {
      "needs_background": "light"
     },
     "output_type": "display_data"
    }
   ],
   "source": [
    "bins=[0,130,365,480]\n",
    "df['Loan_Amount_Term']=pd.cut(df['Loan_Amount_Term'],bins,labels=['Low','Average','High'])\n",
    "df['Loan_Amount_Term']\n",
    "data2=df.groupby(\"Loan_Amount_Term\").Loan_Status.value_counts(normalize=True)\n",
    "x=data2.index.tolist()\n",
    "y=data2.values.tolist()\n",
    "X=[]\n",
    "X1=[]\n",
    "for i in range(len(x)):\n",
    "    X.append(x[i][0])\n",
    "    X1.append(x[i][1])\n",
    "sns.barplot(x=X,y=y,hue=X1,data=df)"
   ]
  },
  {
   "cell_type": "markdown",
   "metadata": {},
   "source": [
    "# Treating Missing Values and Loan Prediction"
   ]
  },
  {
   "cell_type": "code",
   "execution_count": 7,
   "metadata": {},
   "outputs": [],
   "source": [
    "from sklearn.model_selection import train_test_split\n",
    "from sklearn.linear_model import LogisticRegression \n",
    "from sklearn.metrics import accuracy_score\n",
    "import pandas as pd\n",
    "def LoanPrediction(datacoll):\n",
    "    df=pd.read_csv('/Users/masti/Desktop/data_python.csv')\n",
    "    print(df.isnull().sum())\n",
    "    df['Gender'].fillna(df['Gender'].mode()[0],inplace=True)\n",
    "    df['Married'].fillna(df['Married'].mode()[0],inplace=True)\n",
    "    df['Dependents'].fillna(df['Dependents'].mode()[0],inplace=True)\n",
    "    df['Self_Employed'].fillna(df['Self_Employed'].mode()[0],inplace=True)\n",
    "    df['Loan_Amount_Term'].fillna(df['Loan_Amount_Term'].mode()[0],inplace=True)\n",
    "    df['Credit_History'].fillna(df['Credit_History'].mode()[0],inplace=True)\n",
    "    df['LoanAmount'].fillna(df['LoanAmount'].median(),inplace=True)\n",
    "    df = df.drop('Loan_ID',1)\n",
    "    X = df.drop('Loan_Status',1) \n",
    "    X=X.append(datacoll, ignore_index=True)\n",
    "    y = df.Loan_Status\n",
    "    X=pd.get_dummies(X)\n",
    "    data=X.tail(1)\n",
    "    X.drop(X.tail(1).index,inplace=True) \n",
    "    df=pd.get_dummies(df)\n",
    "    x_train, x_test, y_train, y_test = train_test_split(X,y, test_size =0.3)\n",
    "    model = LogisticRegression() \n",
    "    model.fit(x_train, y_train)\n",
    "    pred=model.predict(x_test)\n",
    "    print('Accuracy is:',accuracy_score(y_test,pred))\n",
    "    return model.predict(data)"
   ]
  },
  {
   "cell_type": "code",
   "execution_count": 8,
   "metadata": {},
   "outputs": [
    {
     "data": {
      "text/plain": [
       "Loan_ID               0\n",
       "Gender               13\n",
       "Married               3\n",
       "Dependents           15\n",
       "Education             0\n",
       "Self_Employed        32\n",
       "ApplicantIncome       0\n",
       "CoapplicantIncome     0\n",
       "LoanAmount           22\n",
       "Loan_Amount_Term     14\n",
       "Credit_History       50\n",
       "Property_Area         0\n",
       "Loan_Status           0\n",
       "dtype: int64"
      ]
     },
     "execution_count": 8,
     "metadata": {},
     "output_type": "execute_result"
    }
   ],
   "source": [
    "df.isnull().sum()"
   ]
  },
  {
   "cell_type": "markdown",
   "metadata": {},
   "source": [
    "# Loan Prediction"
   ]
  },
  {
   "cell_type": "code",
   "execution_count": null,
   "metadata": {},
   "outputs": [],
   "source": [
    "pred"
   ]
  },
  {
   "cell_type": "code",
   "execution_count": null,
   "metadata": {},
   "outputs": [],
   "source": [
    "accuracy_score(y_test,pred)"
   ]
  },
  {
   "cell_type": "markdown",
   "metadata": {},
   "source": [
    "# Take Loan"
   ]
  },
  {
   "cell_type": "code",
   "execution_count": 10,
   "metadata": {},
   "outputs": [
    {
     "name": "stdout",
     "output_type": "stream",
     "text": [
      "------------------------\n",
      "PLEASE FILL THE DETAILS\n",
      "-------------------------\n",
      "Name: Hi\n",
      "Date of Birth (dd-mm-yyyy): 12-09-2000\n",
      "Gender (Male/Female): Male\n",
      "Marital status (Yes/No): No\n",
      "Enter the number of dependents (0,1,2,3+): 0\n",
      "Educational Qualification: (Graduate/Non-Graduate) Non-Graduate\n",
      "Are you self employed? (Yes/No) No\n",
      "Monthly Income (in rupees in hundreds): 10\n",
      "Monthly Income of co-applicant (in rupees in hundreds): 10\n",
      "Loan amount needed (in hundreds): 2000\n",
      "Loan amount term(in days): 230\n",
      "Have you repaid your previous debts(1/0): 1\n",
      "Property Area (Urban/Semiurban/Rural): Rurak\n",
      "Phone number: 982565189\n",
      "Aadhar number: 136572357253\n",
      "Loan_ID               0\n",
      "Gender               13\n",
      "Married               3\n",
      "Dependents           15\n",
      "Education             0\n",
      "Self_Employed        32\n",
      "ApplicantIncome       0\n",
      "CoapplicantIncome     0\n",
      "LoanAmount           22\n",
      "Loan_Amount_Term     14\n",
      "Credit_History       50\n",
      "Property_Area         0\n",
      "Loan_Status           0\n",
      "dtype: int64\n",
      "Accuracy is: 0.8\n",
      "Loan Not Considered\n"
     ]
    },
    {
     "name": "stderr",
     "output_type": "stream",
     "text": [
      "C:\\Users\\masti\\anaconda3\\lib\\site-packages\\sklearn\\linear_model\\_logistic.py:940: ConvergenceWarning: lbfgs failed to converge (status=1):\n",
      "STOP: TOTAL NO. of ITERATIONS REACHED LIMIT.\n",
      "\n",
      "Increase the number of iterations (max_iter) or scale the data as shown in:\n",
      "    https://scikit-learn.org/stable/modules/preprocessing.html\n",
      "Please also refer to the documentation for alternative solver options:\n",
      "    https://scikit-learn.org/stable/modules/linear_model.html#logistic-regression\n",
      "  extra_warning_msg=_LOGISTIC_SOLVER_CONVERGENCE_MSG)\n"
     ]
    }
   ],
   "source": [
    "import csv\n",
    "def take_loan():\n",
    "    print(\"------------------------\")\n",
    "    print(\"PLEASE FILL THE DETAILS\")\n",
    "    print(\"-------------------------\")\n",
    "    l=[]\n",
    "    import random\n",
    "    loan_no=random.randint(1,10000)\n",
    "    name=input(\"Name: \")\n",
    "    dob=input(\"Date of Birth (dd-mm-yyyy): \")\n",
    "    gender=input(\"Gender (Male/Female): \")\n",
    "    l.append(gender)\n",
    "    married=input(\"Marital status (Yes/No): \")\n",
    "    l.append(married)\n",
    "    dependents=input(\"Enter the number of dependents (0,1,2,3+): \")\n",
    "    l.append(dependents)\n",
    "    education=input(\"Educational Qualification: (Graduate/Non-Graduate) \")\n",
    "    l.append(education)\n",
    "    self_employed=input(\"Are you self employed? (Yes/No) \")\n",
    "    l.append(self_employed)\n",
    "    applicant_income=float(input(\"Monthly Income (in rupees in hundreds): \"))\n",
    "    l.append(applicant_income)\n",
    "    coapplicant_income=float(input(\"Monthly Income of co-applicant (in rupees in hundreds): \"))\n",
    "    l.append(coapplicant_income)\n",
    "    loan_amount=float(input(\"Loan amount needed (in hundreds): \"))\n",
    "    l.append(loan_amount)\n",
    "    loan_amount_term=float(input(\"Loan amount term(in days): \"))\n",
    "    l.append(loan_amount_term)\n",
    "    credit_history=float(input(\"Have you repaid your previous debts(1/0): \"))\n",
    "    l.append(credit_history)\n",
    "    property_area=input(\"Property Area (Urban/Semiurban/Rural): \")\n",
    "    l.append(property_area)\n",
    "    l=[l]\n",
    "    phone_no=input(\"Phone number: \")\n",
    "    aadhar=input(\"Aadhar number: \")\n",
    "    col=['Gender', 'Married', 'Dependents', 'Education', 'Self_Employed',\n",
    "       'ApplicantIncome', 'CoapplicantIncome', 'LoanAmount',\n",
    "       'Loan_Amount_Term', 'Credit_History', 'Property_Area']\n",
    "    datacoll=pd.DataFrame(l,columns=col)\n",
    "    a=LoanPrediction(datacoll)\n",
    "    if a=='Y':\n",
    "        balance=loan_amount\n",
    "        si=(loan_amount*loan_amount_term*11)/(100*365)\n",
    "        balance=balance+si\n",
    "        with open('appl_details.csv','a+',newline='') as file:\n",
    "            writer=csv.writer(file)\n",
    "            writer.writerow(['loan_no','name','dob','gender','married','dependents','education','self_employed','applicant_income','coapplicant_income','loan_amount','loan_amount_term','credit_history','phone_no','aadhar','balance'])\n",
    "            writer.writerow([loan_no,name,dob,gender,married,dependents,education,self_employed,applicant_income,coapplicant_income,loan_amount,loan_amount_term,credit_history,phone_no,aadhar,balance])\n",
    "    else:\n",
    "        print('Loan Not Considered')\n",
    "take_loan()"
   ]
  },
  {
   "cell_type": "code",
   "execution_count": 12,
   "metadata": {},
   "outputs": [
    {
     "name": "stdout",
     "output_type": "stream",
     "text": [
      "['loan_no', 'name', 'dob', 'gender', 'married', 'dependents', 'education', 'self_employed', 'applicant_income', 'coapplicant_income', 'loan_amount', 'loan_amount_term', 'credit_history', 'phone_no', 'aadhar', 'balance']\n",
      "['', '', '', '', '', '', '', '', '', '', '', '', '', '', '', '']\n",
      "['loan_no', 'name', 'dob', 'gender', 'married', 'dependents', 'education', 'self_employed', 'applicant_income', 'coapplicant_income', 'loan_amount', 'loan_amount_term', 'credit_history', 'phone_no', 'aadhar', 'balance']\n",
      "['', '', '', '', '', '', '', '', '', '', '', '', '', '', '', '']\n",
      "['574', 'Rehaan', '12-03-90', 'Male', 'Yes', '1', 'Graduate', 'No', '6545', '5678', '100', '120', '0', '379825935', '2147897219', '103.6164384']\n",
      "['', '', '', '', '', '', '', '', '', '', '', '', '', '', '', '']\n",
      "['loan_no', 'name', 'dob', 'gender', 'married', 'dependents', 'education', 'self_employed', 'applicant_income', 'coapplicant_income', 'loan_amount', 'loan_amount_term', 'credit_history', 'phone_no', 'aadhar', 'balance']\n",
      "['', '', '', '', '', '', '', '', '', '', '', '', '', '', '', '']\n",
      "['loan_no', 'name', 'dob', 'gender', 'married', 'dependents', 'education', 'self_employed', 'applicant_income', 'coapplicant_income', 'loan_amount', 'loan_amount_term', 'credit_history', 'phone_no', 'aadhar', 'balance']\n",
      "['645', 'Hey', '18-11-67', 'Male', 'Yes', '2', 'Graduate', 'Yes', '5859', '2300', '150', '360', '1', '9872837489', '9.81726E+13', '166.2739726']\n"
     ]
    }
   ],
   "source": [
    "with open('appl_details.csv','r',newline='') as file:\n",
    "    reader=csv.reader(file)\n",
    "    for i in reader:\n",
    "        print(i)"
   ]
  },
  {
   "cell_type": "markdown",
   "metadata": {},
   "source": [
    "# Pay Off Loan"
   ]
  },
  {
   "cell_type": "code",
   "execution_count": null,
   "metadata": {},
   "outputs": [],
   "source": [
    "import os \n",
    "def pay_off_loan():\n",
    "    appl_no=input(\"Enter the loan number: \")\n",
    "    deduction=float(input(\"Enter the amount you are going to pay: \"))\n",
    "    with open('appl_details.csv','r') as f1,open('appl.csv','a+') as f2:\n",
    "        reader1=csv.reader(f1)\n",
    "        for row in reader1:\n",
    "            if row[0]==appl_no:\n",
    "                bal=float(row[15])\n",
    "                bal=(bal*100)-deduction\n",
    "                bal/=100\n",
    "                row[15]=str(bal)\n",
    "            writer1=csv.writer(f2)\n",
    "            writer1.writerow(row)\n",
    "            print(row)\n",
    "    os.remove('appl_details.csv')\n",
    "    os.rename('appl.csv','appl_details.csv')"
   ]
  },
  {
   "cell_type": "code",
   "execution_count": null,
   "metadata": {},
   "outputs": [],
   "source": [
    "pay_off_loan()"
   ]
  },
  {
   "cell_type": "code",
   "execution_count": null,
   "metadata": {},
   "outputs": [],
   "source": []
  }
 ],
 "metadata": {
  "kernelspec": {
   "display_name": "Python 3",
   "language": "python",
   "name": "python3"
  },
  "language_info": {
   "codemirror_mode": {
    "name": "ipython",
    "version": 3
   },
   "file_extension": ".py",
   "mimetype": "text/x-python",
   "name": "python",
   "nbconvert_exporter": "python",
   "pygments_lexer": "ipython3",
   "version": "3.7.6"
  }
 },
 "nbformat": 4,
 "nbformat_minor": 4
}
